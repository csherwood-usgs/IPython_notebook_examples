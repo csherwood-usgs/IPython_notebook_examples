{
 "cells": [
  {
   "cell_type": "code",
   "execution_count": 1,
   "metadata": {
    "collapsed": true
   },
   "outputs": [],
   "source": [
    "import numpy as np\n",
    "import matplotlib.pyplot as plt\n",
    "%matplotlib inline"
   ]
  },
  {
   "cell_type": "code",
   "execution_count": 15,
   "metadata": {},
   "outputs": [
    {
     "name": "stdout",
     "output_type": "stream",
     "text": [
      "tt, dt, nt 315360000.0 86400.0 3650.0\n",
      "dz: [ 2.          2.          2.          2.          2.08219178  3.          3.\n",
      "  3.          3.          3.        ]\n",
      "dz: [ 2.          2.          2.          2.          2.15762807  3.          3.\n",
      "  3.          3.          3.        ]\n",
      "dz: [ 2.          2.          2.          2.          2.22686412  3.          3.\n",
      "  3.          3.          3.        ]\n",
      "dz: [ 2.          2.          2.          2.          2.29040954  3.          3.\n",
      "  3.          3.          3.        ]\n",
      "dz: [ 2.          2.          2.          2.          2.34873204  3.          3.\n",
      "  3.          3.          3.        ]\n",
      "dz: [ 2.          2.          2.          2.          2.40226091  3.          3.\n",
      "  3.          3.          3.        ]\n",
      "dz: [ 2.          2.          2.          2.          2.45139015  3.          3.\n",
      "  3.          3.          3.        ]\n",
      "dz: [ 2.          2.          2.          2.          2.49648137  3.          3.\n",
      "  3.          3.          3.        ]\n",
      "dz: [ 2.          2.          2.          2.          2.53786647  3.          3.\n",
      "  3.          3.          3.        ]\n",
      "dz: [ 2.          2.          2.          2.          2.57585004  3.          3.\n",
      "  3.          3.          3.        ]\n",
      "dz: [ 2.          2.          2.          2.          2.61071168  3.          3.\n",
      "  3.          3.          3.        ]\n",
      "dz: [ 2.          2.          2.          2.          2.64270798  3.          3.\n",
      "  3.          3.          3.        ]\n",
      "dz: [ 2.         2.         2.         2.         2.6476024  2.3523976  3.         3.\n",
      "  3.         3.       ]\n",
      "dz: [ 2.         2.         2.         2.         2.6476024  2.4056252  3.         3.\n",
      "  3.         3.       ]\n"
     ]
    }
   ],
   "source": [
    "# Initialize\n",
    "\n",
    "# cell size\n",
    "dx = 10.\n",
    "dy = 10.\n",
    "\n",
    "rhos = 2650.\n",
    "cb = .5\n",
    "\n",
    "# thickness of cells\n",
    "dz = np.array([2.,2.,2.,2.,2.,3.,3.,3.,3.,3.])\n",
    "# cum. erosion so far (none)\n",
    "xm = np.zeros_like(dz)\n",
    "\n",
    "nx = len(dz)\n",
    "# marsh mask\n",
    "mmask = np.array([0.,0.,0.,0.,0.,1.,1.,1.,1.,1.])\n",
    "\n",
    "# location of left side of cells\n",
    "xl = dx*np.arange(nx)\n",
    "\n",
    "# initial scarp elevations (these are located on left edge, so need to add one for first cell)\n",
    "zm = mmask*np.append(np.array([0.]),np.diff(dz))\n",
    "#print(\"zm\",zm)\n",
    "\n",
    "tt = 365.*10.*24.*3600. # ten years\n",
    "dt = 24.*3600.          # dt = 1 day\n",
    "nt = tt/dt\n",
    "print(\"tt, dt, nt\",tt,dt,nt)\n",
    "\n",
    "# cell volumes\n",
    "V = dx*dy*dz\n",
    "# sediment mass in each cell\n",
    "M = rhos*(1-cb)*V\n",
    "# total sediment mass in system\n",
    "sumM = np.sum(M)\n",
    "\n",
    "# horiz marsh cell fraction\n",
    "fmh = (1. - (xm/dx)*mmask)\n",
    "# vertical marsh cell fraction\n",
    "fmv = (1. - (zm/dz)*mmask)\n",
    "# total marsh cell fraction\n",
    "fm = (1.-(xm/dx+zm/dz)*mmask)\n",
    "\n",
    "# Run\n",
    "\n",
    "for i in range(14):\n",
    "    # calculate erosion distance (constant at 300 m/yr = 0.82 m/day)\n",
    "    dxm = dt*300./(3600.*24.*365.)*(np.abs(zm)>0.)\n",
    "    # ensure that cumulative scarp erosion does not exceed dx\n",
    "    for j in range(nx):\n",
    "        if (dxm[j]+xm[j])>dx :\n",
    "            dxm[j]=dx-xm[j]       \n",
    "    xm += dxm\n",
    "    \n",
    "    # eroded mass from volume of scarp retreat\n",
    "    dM = rhos*(1-cb)*dxm*dy*zm\n",
    "    \n",
    "    # subtract mass from eroding marsh cell\n",
    "    M -= dM\n",
    "    \n",
    "    # add mass to cell to left\n",
    "    M[0:-1] += dM[1:]\n",
    "    \n",
    "    # update volumes\n",
    "    V = M/(rhos*(1-cb))\n",
    "\n",
    "    # if there is deposition, the additional cell height should be \n",
    "    # based on the (remaining) horizonal area of marsh\n",
    "    # update dz\n",
    "        \n",
    "    # horiz marsh cell fraction\n",
    "    fmh = (1. - (xm/dx)*mmask)\n",
    "    \n",
    "    # What criteria to use for marsh mask?\n",
    "    # If there is any horizontal fraction left, and it was marsh, it is still marsh.\n",
    "    # (one-way...can't generate marsh)\n",
    "    mmask = np.ceil(fmh)*mmask\n",
    "\n",
    "    # collapse the non-marsh cells\n",
    "    for j in range(nx):\n",
    "        if (mmask[j]<=0.5) :\n",
    "            dz[j]=V[j]/(dx*dy)\n",
    "            \n",
    "    print('dz:',dz)\n",
    "        \n",
    "    # recalculate scarp heights\n",
    "    zm = mmask*np.append(np.array([0.]),np.diff(dz))\n",
    "    #print(\"zm\",zm)\n",
    "                   \n",
    "    # vertical marsh cell fraction\n",
    "    fmv = (1. - (zm/dz)*mmask)\n",
    "    # total marsh cell fraction\n",
    "    fm = (1.-(xm/dx+zm/dz)*mmask)\n",
    "    #print(\"fmh:\",fmh)\n",
    "   \n",
    "    \n",
    "\n",
    "    \n",
    "\n",
    "    "
   ]
  },
  {
   "cell_type": "code",
   "execution_count": 9,
   "metadata": {},
   "outputs": [
    {
     "data": {
      "text/plain": [
       "array([ 1.,  1.,  1.,  1.,  1.,  1.,  1.,  1.,  1.,  1.])"
      ]
     },
     "execution_count": 9,
     "metadata": {},
     "output_type": "execute_result"
    }
   ],
   "source": [
    "mmask"
   ]
  },
  {
   "cell_type": "code",
   "execution_count": null,
   "metadata": {
    "collapsed": true
   },
   "outputs": [],
   "source": []
  }
 ],
 "metadata": {
  "kernelspec": {
   "display_name": "Python 3",
   "language": "python",
   "name": "python3"
  },
  "language_info": {
   "codemirror_mode": {
    "name": "ipython",
    "version": 3
   },
   "file_extension": ".py",
   "mimetype": "text/x-python",
   "name": "python",
   "nbconvert_exporter": "python",
   "pygments_lexer": "ipython3",
   "version": "3.6.1"
  }
 },
 "nbformat": 4,
 "nbformat_minor": 2
}
