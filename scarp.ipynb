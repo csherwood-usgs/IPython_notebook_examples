{
 "cells": [
  {
   "cell_type": "code",
   "execution_count": 1,
   "metadata": {
    "collapsed": false
   },
   "outputs": [
    {
     "name": "stdout",
     "output_type": "stream",
     "text": [
      "('wet angle of repose: ', 0.46630765815499858, 25.0)\n",
      "('beach slope: ', 0.02, 1.1457628381751035)\n",
      "('failure angle: ', 1.0076445808463947, 45.218166156499294)\n",
      "('dune slope: ', 0.05, 2.8624052261117479)\n",
      "('Eroded volume: ', 0.18084710838307211, 0.020152891616927897, 0.0010000000000000002)\n",
      "('A,B,C', array([  23.85423716,  112.07335952,   44.07240332]))\n",
      "('b, c = ', 1.0915914854264472, 0.81932879156631067)\n",
      "('xs, xl', 0.81916497495134399, 0.17015288855354893)\n"
     ]
    },
    {
     "data": {
      "text/plain": [
       "[<matplotlib.lines.Line2D at 0x1f76208>]"
      ]
     },
     "execution_count": 1,
     "metadata": {},
     "output_type": "execute_result"
    },
    {
     "data": {
      "image/png": "[encoded data removed]",
      "text/plain": [
       "<matplotlib.figure.Figure at 0x3dd5518>"
      ]
     },
     "metadata": {},
     "output_type": "display_data"
    }
   ],
   "source": [
    "# Beach erosion via scarp failure\n",
    "%matplotlib inline\n",
    "\n",
    "import matplotlib\n",
    "import matplotlib.pyplot as plt\n",
    "import numpy as np \n",
    "\n",
    "# internal friction angle (is this the same as angle of repose?)\n",
    "phiw = 25.*(np.pi/180.)\n",
    "tanphiw = np.tan(phiw)\n",
    "# beach slope\n",
    "tanalphas = 1./50.\n",
    "alphas = np.arctan(tanalphas)\n",
    "# failure angle\n",
    "alpha = 0.25*np.pi+0.5*phiw*np.pi/180.\n",
    "tanalpha = np.tan(alpha)\n",
    "# dune slope\n",
    "tanalphad = 1./20.\n",
    "alphad = np.arctan(tanalphad)\n",
    "print(\"wet angle of repose: \",tanphiw,(180./np.pi)*phiw)\n",
    "print(\"beach slope: \",tanalphas,(180./np.pi)*alphas)\n",
    "print(\"failure angle: \",tanalpha,(180./np.pi)*alpha)\n",
    "print(\"dune slope: \",tanalphad,(180./np.pi)*alphad)\n",
    "\n",
    "xi = .2\n",
    "zs = 1.\n",
    "zi = xi*tanalpha\n",
    "# wedge of inundated sediment below slump block\n",
    "Vi = 0.5*xi*zi\n",
    "# wedge of dune on top of slump block\n",
    "Vd = 0.5*xi*xi*tanalphad\n",
    "# volume of slump block\n",
    "Ve = zs*xi-Vi+Vd\n",
    "print(\"Eroded volume: \",Ve,Vi,Vd)\n",
    "\n",
    "# first, try calcs assuming slump lies against slip face\n",
    "# we know the angles of the wedge of slumped sand\n",
    "A = phiw-alphas\n",
    "C = alpha-alphas\n",
    "B = np.pi-(A+C)\n",
    "print(\"A,B,C\",180./np.pi*np.array((A,B,C)))\n",
    "# and we know the area (volume per unit alonghore) of the wedge, so\n",
    "# use ASA to calculate sides\n",
    "# no cotangent function, use cot = 1/tan\n",
    "c = np.sqrt(Ve*2.*(1./np.tan(A)+1./np.tan(B)))\n",
    "b = np.sqrt(Ve*2.*(1./np.tan(A)+1./np.tan(C)))\n",
    "print(\"b, c = \",b,c)\n",
    "xs = c*np.cos(alphas)\n",
    "xl = b*np.cos(phiw)-xs\n",
    "print(\"xs, xl\",xs,xl)\n",
    "\n",
    "if xl > xi:\n",
    "    print('xl>xi...do calcs for slump resting against scarp')\n",
    "    xl = xi\n",
    "    Vis = 0.5*xi*xi*(tanalpha-tanphiw)\n",
    "    xs = np.sqrt(2.*(Ve+Vis)/(tanphiw-tanalphas))-xi\n",
    "    # check volume\n",
    "    Ve2 = 0.5*(xs+xl)**2.*tanphiw-0.5*(xs+xl)**2.*tanalphas-Vis\n",
    "    print(\"Ve, Ve2, diff:\", Ve,Ve2,Ve-Ve2)\n",
    "    print(\"xs, xl\",xs,xl)\n",
    "    \n",
    "# plot some points\n",
    "zb = .2\n",
    "zs = 1.\n",
    "xb = -zb/tanalphas\n",
    "zdt = zb+zs+.2\n",
    "xdt = (zdt-(zb+zs))/tanalphad\n",
    "zxs = zb-xs*tanalphas\n",
    "zslump = (xs+xl)*tanphiw+zxs\n",
    "x = np.array((xb,0.,0.,xdt))\n",
    "y = np.array((0,zb,zb+zs,zdt))\n",
    "plt.plot(x,y)\n",
    "plt.plot((0.,xi,xi),(zb,zb+zi,zb+zs+tanalphad*xi),'--')\n",
    "plt.plot((-xs,xl),(zxs,zslump),'-r')"
   ]
  },
  {
   "cell_type": "code",
   "execution_count": 2,
   "metadata": {
    "collapsed": false
   },
   "outputs": [
    {
     "ename": "SyntaxError",
     "evalue": "invalid syntax (<ipython-input-2-8f7877454480>, line 7)",
     "output_type": "error",
     "traceback": [
      "\u001b[0;36m  File \u001b[0;32m\"<ipython-input-2-8f7877454480>\"\u001b[0;36m, line \u001b[0;32m7\u001b[0m\n\u001b[0;31m    PHI =\u001b[0m\n\u001b[0m          ^\u001b[0m\n\u001b[0;31mSyntaxError\u001b[0m\u001b[0;31m:\u001b[0m invalid syntax\n"
     ]
    }
   ],
   "source": [
    "# q= -K(PHI)*dPHI/dx - eqn 3\n",
    "rho = 1025\n",
    "g = 9.81\n",
    "por = 0.3\n",
    "rhosb = por*rhos+(1.-por)*rho\n",
    "# PHI = pressure head (m)\n",
    "PHI = \n",
    "# K = hydraulic conductivity (m/s)\n",
    "Pw = rho*g*PHI\n",
    "# theta = volumentric water content of the pore spaces (m3/m3)\n",
    "# thetar = residual water content (initial value for a dry dune)\n",
    "# thetas = saturated water content\n",
    "# relative water content THETA i\n",
    "THETA = (theta-thetar)/(thetas-thetar)\n",
    "\n",
    "# Lateral earth force\n",
    "delz0 - zc-zb\n",
    "FE = rhosb*g*delz0/(2.*tanalpha2 )-Pw*THETA*(1.-1./tanalpha2)*delz0 # Eqn 21\n",
    "\n",
    "# Weight force of potential slump block\n",
    "FW = (rhosb*g+rho*g*theta)*(delzd-0.5*delxI*tanalpha)*delxI # Egn 23\n",
    "\n",
    "# Destabilizing force - eqn. 22\n",
    "FD = FW*np.sin(alpha)+FE*np.cos(alpha)\n",
    "FT = 2.*(-Pw)*THETA*tanphiw*np.tan(0.25*np.pi+0.5*phiw)*delzl\n",
    "# Stabilizing force - eqn. 25\n",
    "FS = (FW*np.cos(alpha)* + FE*np.sin(alpha) + (-Pw)*THETA*delxl/np.cos(alpha))*tanphiw+FT"
   ]
  }
 ],
 "metadata": {
  "kernelspec": {
   "display_name": "Python 2",
   "language": "python",
   "name": "python2"
  },
  "language_info": {
   "codemirror_mode": {
    "name": "ipython",
    "version": 2
   },
   "file_extension": ".py",
   "mimetype": "text/x-python",
   "name": "python",
   "nbconvert_exporter": "python",
   "pygments_lexer": "ipython2",
   "version": "2.7.12"
  }
 },
 "nbformat": 4,
 "nbformat_minor": 0
}
