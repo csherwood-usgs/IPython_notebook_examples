{
 "cells": [
  {
   "cell_type": "markdown",
   "metadata": {},
   "source": [
    "## 2D Marsh Erosion\n",
    "\n",
    "#### Set up a small 8 x 7 test grid with marsh cells in the middle\n",
    "\n",
    "The indexing is [column,row], with column indices from 0 (south) to 7 (north), and row indices from 0 (west) to 6 (east).\n",
    "\n",
    "The marsh mask is a real number representing the horizontal area covered by marsh.\n",
    "If it is below a small value (0.001), the cell is collapsed and considered wet.\n",
    "\n",
    "The erosion rate has a constant, uniform magnitude.\n",
    "\n",
    "#### New arrays that would need to be saved in a ROMS implementation\n",
    "    mmarsh - marsh mask (floating point, 0 to 1)\n",
    "    xmt, ymt - cumulative erosion distance in x and y distances (floating point, 0 to dx,dy)\n",
    "    \n",
    "All of the other calculations are local (except of course the thrust calculations).\n",
    "\n",
    "#### Run the marsh cell book-keeping\n",
    "\n",
    "Here are the steps programmed below:\n",
    "* Set up the domain and initialize elevations and the marsh mask\n",
    "* Calculate the scarp heights at the marsh edges\n",
    "* For each time step:\n",
    "    * Calculate the scarp retreat rate (in reality, a function of waves, adjacent water depths, and maybe scarp height)\n",
    "    * Ensure that total scarp retreat is less than dx, dy, and average e-w and n-s rates to get corners right.\n",
    "    * Calculate volumes using retreat distance and scarp height (could us another number, like erodible thickness)\n",
    "    * Convert volume to mass. Remove mass from marsh cell and distribute to adjacent cells.\n",
    "    * Update marsh mask. If cell is no longer marsh, collapse to tidal flat.\n",
    "    \n"
   ]
  },
  {
   "cell_type": "code",
   "execution_count": 1,
   "metadata": {},
   "outputs": [
    {
     "name": "stdout",
     "output_type": "stream",
     "text": [
      "Shape of xc (8, 7)\n",
      "Shape of yc (8, 7)\n",
      "[[ 0.5  0.5  0.5  0.5  0.5  0.5  0.5]\n",
      " [ 0.5  0.5  0.5  0.5  0.5  0.5  0.5]\n",
      " [ 0.5  0.5  2.   2.   2.   0.5  0.5]\n",
      " [ 0.5  0.5  2.   2.   2.   0.5  0.5]\n",
      " [ 0.5  0.5  2.   2.   2.   0.5  0.5]\n",
      " [ 0.5  0.5  0.5  0.5  0.5  0.5  0.5]\n",
      " [ 0.5  0.5  0.5  0.5  0.5  0.5  0.5]\n",
      " [ 0.5  0.5  0.5  0.5  0.5  0.5  0.5]]\n"
     ]
    }
   ],
   "source": [
    "import numpy as np\n",
    "import matplotlib.pyplot as plt\n",
    "%matplotlib inline\n",
    "\n",
    "# Marsh Erosion in 2D\n",
    "dx = 100.\n",
    "dy = 100.\n",
    "nx = 7\n",
    "ny = 8\n",
    "\n",
    "# center points\n",
    "xc = np.arange(0,nx)*dx + dx/2. # row vector\n",
    "yc = np.arange(0,ny).reshape((ny,1))*dy + dy/2. # col vector\n",
    "\n",
    "# replicate to make 2D arrays\n",
    "xc = np.tile(xc,(ny,1))\n",
    "yc = np.tile(yc,(1,nx))\n",
    "print(\"Shape of xc\",np.shape(xc))\n",
    "print(\"Shape of yc\",np.shape(yc))\n",
    "\n",
    "# marsh mask\n",
    "mmask = np.zeros((ny,nx))\n",
    "mmask[2:5,2:5]=1.\n",
    "\n",
    "# uniform elevations to domain\n",
    "dz = .5*np.ones_like(mmask)\n",
    "\n",
    "# ...but make marsh cells taller\n",
    "dz[mmask>0.]=2.\n",
    "print(dz)\n",
    "\n",
    "# arrays for cumulative e-w and n-s erosion\n",
    "xm = np.zeros_like(mmask)\n",
    "ym = np.zeros_like(mmask)"
   ]
  },
  {
   "cell_type": "code",
   "execution_count": 2,
   "metadata": {},
   "outputs": [
    {
     "name": "stdout",
     "output_type": "stream",
     "text": [
      "[[ 0.   0.   0.   0.   0.   0.   0.   0. ]\n",
      " [ 0.   0.   0.   0.   0.   0.   0.   0. ]\n",
      " [ 0.   0.   1.5  0.   0.  -1.5  0.   0. ]\n",
      " [ 0.   0.   1.5  0.   0.  -1.5  0.   0. ]\n",
      " [ 0.   0.   1.5  0.   0.  -1.5  0.   0. ]\n",
      " [ 0.   0.   0.   0.   0.   0.   0.   0. ]\n",
      " [ 0.   0.   0.   0.   0.   0.   0.   0. ]\n",
      " [ 0.   0.   0.   0.   0.   0.   0.   0. ]]\n",
      "[[ 0.   0.   0.   0.   0.   0.   0. ]\n",
      " [ 0.   0.   0.   0.   0.   0.   0. ]\n",
      " [ 0.   0.   1.5  1.5  1.5  0.   0. ]\n",
      " [ 0.   0.   0.   0.   0.   0.   0. ]\n",
      " [ 0.   0.   0.   0.   0.   0.   0. ]\n",
      " [ 0.   0.  -1.5 -1.5 -1.5  0.   0. ]\n",
      " [ 0.   0.   0.   0.   0.   0.   0. ]\n",
      " [ 0.   0.   0.   0.   0.   0.   0. ]\n",
      " [ 0.   0.   0.   0.   0.   0.   0. ]]\n"
     ]
    }
   ],
   "source": [
    "# Scarp height arrays - these are like u, v arrays\n",
    "zmx = np.zeros((ny,nx+1))\n",
    "zmy = np.zeros((ny+1,nx))\n",
    "# calculate scarp heights\n",
    "for iy in range(ny):\n",
    "    zmx[iy,1:nx]=np.diff(dz[iy,:])\n",
    "    \n",
    "for ix in range(nx):\n",
    "    zmy[1:ny,ix]=np.diff(dz[:,ix])\n",
    "    \n",
    "print(zmx)\n",
    "print(zmy)"
   ]
  },
  {
   "cell_type": "code",
   "execution_count": 3,
   "metadata": {},
   "outputs": [
    {
     "name": "stdout",
     "output_type": "stream",
     "text": [
      "Initial mass: 549875000.0\n",
      "Final mass  : 549875000.0\n"
     ]
    }
   ],
   "source": [
    "# Calculate initial volume and mass\n",
    "rhos = 2650.\n",
    "cb = 0.5\n",
    "V = dx*dy*dz\n",
    "M = (1.-cb)*rhos*V\n",
    "\n",
    "tt = 25*24.*3600.        # 25 days\n",
    "dt = 24.*3600.           # dt = 1 day\n",
    "nt = int(np.ceil(tt/dt)) # number of times\n",
    "\n",
    "# array for tracking total mass\n",
    "M_a =  np.nan*np.ones((nt))\n",
    "M_a[0]=np.sum(M)\n",
    "\n",
    "# Run\n",
    "for i in range(nt):\n",
    "    \n",
    "    # calculate scarp heights (retain sign of change)\n",
    "    for iy in range(ny):\n",
    "        zmx[iy,1:nx]=np.diff(dz[iy,:])\n",
    "    \n",
    "    for ix in range(nx):\n",
    "        zmy[1:ny,ix]=np.diff(dz[:,ix])\n",
    "    \n",
    "    # make uniform arrays of erosion distance magnitude (always shoreward)\n",
    "    dxm = dt*300./(3600.*24.*365.)*np.ones_like(zmx)\n",
    "    dym = dt*300./(3600.*24.*365.)*np.ones_like(zmy)\n",
    "    \n",
    "    for ix in range(nx):\n",
    "        for iy in range(ny):\n",
    "            \n",
    "            # only do these operations in march cells adjacent to a non-marsh cell\n",
    "            # (this is klunky, but necessary because of the uniform erosion rate)\n",
    "            if(mmask[iy,ix]>0.001 and \\\n",
    "               np.any(np.array([mmask[iy-1,ix],mmask[iy+1,ix],mmask[iy,ix+1],mmask[iy,ix-1]])<0.001)):\n",
    "                \n",
    "                # retreat distances for each side of the cell\n",
    "                dxw = dxm[iy,ix]\n",
    "                dxe = dxm[iy,ix+1]\n",
    "                dys = dym[iy,ix]\n",
    "                dyn = dym[iy+1,ix]\n",
    "                \n",
    "                # temporary value for cumulative erosion (these arrays have to be saved)\n",
    "                xmt = xm[iy,ix]+(dxw+dxe)\n",
    "                ymt = ym[iy,ix]+(dys+dyn)\n",
    "                \n",
    "                # if cumulative erosion is bigger than the e-w cell size, reduce proportionately\n",
    "                if(xmt>dx):\n",
    "                    dxe = dx*dxe/(dx-(dxw+dxe+xm[iy,ix]))\n",
    "                    dxw = dx*dxw/(dx-(dxw+dxe+xm[iy,ix]))\n",
    "\n",
    "                # if cumulative erosion is bigger than the n-s cell size, reduce proportionately\n",
    "                if(ymt>dy):\n",
    "                    dyn = dy*dyn/(dy-(dyn+dys+ym[iy,ix]))\n",
    "                    dys = dy*dys/(dy-(dyn+dys+ym[iy,ix]))\n",
    "                    \n",
    "                # new values for cumulative erosion (should never exceed dx, dy)\n",
    "                xm[iy,ix] += dxw+dxe\n",
    "                ym[iy,ix] += dys+dyn\n",
    "                \n",
    "                # volumes eroded - this is the average of eroding e-w first and n-s second and vice versa\n",
    "                # TODO: make erosion zero if marsh is lower than adjacent cell\n",
    "                vxw = dxw*np.abs(zmx[iy,ix])  *0.5*(dy+(dy-(dyn+dys)))\n",
    "                vxe = dxe*np.abs(zmx[iy,ix+1])*0.5*(dy+(dy-(dyn+dys)))\n",
    "                vys = dys*np.abs(zmy[iy,ix])  *0.5*(dx+(dx-(dxw+dxe)))\n",
    "                vyn = dyn*np.abs(zmy[iy+1,ix])*0.5*(dx+(dx-(dxw+dxe)))\n",
    "                #print(iy,ix,\"\\n\",dxe,dxw,dys,dyn,'\\n',vxw,vxe,vys,vyn)\n",
    "                \n",
    "                # subtract mass from eroding marsh cell\n",
    "                M[iy,ix] -= (vxw+vxe+vys+vyn)*(1-cb)*rhos\n",
    "                \n",
    "                # add mass to adjacent cells\n",
    "                # TODO treat corner cell?\n",
    "                M[iy,ix-1] += vxw*(1-cb)*rhos\n",
    "                M[iy,ix+1] += vxe*(1-cb)*rhos\n",
    "                M[iy-1,ix] += vys*(1-cb)*rhos\n",
    "                M[iy+1,ix] += vyn*(1-cb)*rhos\n",
    "                \n",
    "                # update horiz marsh cell fraction\n",
    "                mmask[iy,ix] = (1. - (xm[iy,ix]/dx + ym[iy,ix]/dy))\n",
    "    \n",
    "                if (mmask[iy,ix]<=0.001) :\n",
    "                    mmask[iy,ix]=0.\n",
    "                    dz[iy,ix]=M[iy,ix]/((1-cb)*rhos*dx*dy)\n",
    "                \n",
    "    # total mass in system\n",
    "    M_a[i]=np.sum(M)\n",
    "    \n",
    "print(\"Initial mass: {}\\nFinal mass  : {}\".format(M_a[0],M_a[-1]))"
   ]
  },
  {
   "cell_type": "code",
   "execution_count": 4,
   "metadata": {},
   "outputs": [
    {
     "data": {
      "text/plain": [
       "<matplotlib.collections.PolyCollection at 0x8b79b38>"
      ]
     },
     "execution_count": 4,
     "metadata": {},
     "output_type": "execute_result"
    },
    {
     "data": {
      "image/png": "[encoded data removed]",
      "text/plain": [
       "<matplotlib.figure.Figure at 0x6c21f98>"
      ]
     },
     "metadata": {},
     "output_type": "display_data"
    }
   ],
   "source": [
    "plt.subplot(2,2,1); plt.pcolor(xc,yc,mmask,cmap=plt.cm.terrain,vmin=0.,vmax=3.)\n",
    "plt.subplot(2,2,2);plt.pcolor(xc,yc,dz,cmap=plt.cm.terrain,vmin=1,vmax=4)"
   ]
  },
  {
   "cell_type": "code",
   "execution_count": 5,
   "metadata": {},
   "outputs": [
    {
     "name": "stdout",
     "output_type": "stream",
     "text": [
      "[[ 0.          0.          0.          0.          0.          0.          0.        ]\n",
      " [ 0.          0.          0.          0.          0.          0.          0.        ]\n",
      " [ 0.          0.          0.17808219  0.17808219  0.17808219  0.          0.        ]\n",
      " [ 0.          0.          0.17808219  1.          0.17808219  0.          0.        ]\n",
      " [ 0.          0.          0.17808219  0.17808219  0.17808219  0.          0.        ]\n",
      " [ 0.          0.          0.          0.          0.          0.          0.        ]\n",
      " [ 0.          0.          0.          0.          0.          0.          0.        ]\n",
      " [ 0.          0.          0.          0.          0.          0.          0.        ]]\n",
      "[[ 0.5  0.5  0.5  0.5  0.5  0.5  0.5]\n",
      " [ 0.5  0.5  0.5  0.5  0.5  0.5  0.5]\n",
      " [ 0.5  0.5  2.   2.   2.   0.5  0.5]\n",
      " [ 0.5  0.5  2.   2.   2.   0.5  0.5]\n",
      " [ 0.5  0.5  2.   2.   2.   0.5  0.5]\n",
      " [ 0.5  0.5  0.5  0.5  0.5  0.5  0.5]\n",
      " [ 0.5  0.5  0.5  0.5  0.5  0.5  0.5]\n",
      " [ 0.5  0.5  0.5  0.5  0.5  0.5  0.5]]\n"
     ]
    }
   ],
   "source": [
    "print(mmask)\n",
    "print(dz)"
   ]
  }
 ],
 "metadata": {
  "kernelspec": {
   "display_name": "Python 3",
   "language": "python",
   "name": "python3"
  },
  "language_info": {
   "codemirror_mode": {
    "name": "ipython",
    "version": 3
   },
   "file_extension": ".py",
   "mimetype": "text/x-python",
   "name": "python",
   "nbconvert_exporter": "python",
   "pygments_lexer": "ipython3",
   "version": "3.6.1"
  }
 },
 "nbformat": 4,
 "nbformat_minor": 2
}
