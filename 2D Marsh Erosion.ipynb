{
 "cells": [
  {
   "cell_type": "code",
   "execution_count": 19,
   "metadata": {
    "collapsed": false,
    "deletable": true,
    "editable": true
   },
   "outputs": [
    {
     "name": "stdout",
     "output_type": "stream",
     "text": [
      "Shape of xc (8, 7)\n",
      "Shape of yc (8, 7)\n",
      "[[  50.  150.  250.  350.  450.  550.  650.]\n",
      " [  50.  150.  250.  350.  450.  550.  650.]\n",
      " [  50.  150.  250.  350.  450.  550.  650.]\n",
      " [  50.  150.  250.  350.  450.  550.  650.]\n",
      " [  50.  150.  250.  350.  450.  550.  650.]\n",
      " [  50.  150.  250.  350.  450.  550.  650.]\n",
      " [  50.  150.  250.  350.  450.  550.  650.]\n",
      " [  50.  150.  250.  350.  450.  550.  650.]]\n",
      "[[  50.   50.   50.   50.   50.   50.   50.]\n",
      " [ 150.  150.  150.  150.  150.  150.  150.]\n",
      " [ 250.  250.  250.  250.  250.  250.  250.]\n",
      " [ 350.  350.  350.  350.  350.  350.  350.]\n",
      " [ 450.  450.  450.  450.  450.  450.  450.]\n",
      " [ 550.  550.  550.  550.  550.  550.  550.]\n",
      " [ 650.  650.  650.  650.  650.  650.  650.]\n",
      " [ 750.  750.  750.  750.  750.  750.  750.]]\n",
      "[[ 0.5  0.5  0.5  0.5  0.5  0.5  0.5]\n",
      " [ 0.5  0.5  0.5  0.5  0.5  0.5  0.5]\n",
      " [ 0.5  0.5  2.   2.   2.   0.5  0.5]\n",
      " [ 0.5  0.5  2.   2.   2.   0.5  0.5]\n",
      " [ 0.5  0.5  2.   2.   2.   0.5  0.5]\n",
      " [ 0.5  0.5  0.5  0.5  0.5  0.5  0.5]\n",
      " [ 0.5  0.5  0.5  0.5  0.5  0.5  0.5]\n",
      " [ 0.5  0.5  0.5  0.5  0.5  0.5  0.5]]\n"
     ]
    }
   ],
   "source": [
    "\n",
    "import numpy as np\n",
    "import matplotlib.pyplot as plt\n",
    "%matplotlib inline\n",
    "\n",
    "# Marsh Erosion in 2D\n",
    "dx = 100.\n",
    "dy = 100.\n",
    "nx = 7\n",
    "ny = 8\n",
    "\n",
    "# center points\n",
    "xc = np.arange(0,nx)*dx + dx/2. # row vector\n",
    "yc = np.arange(0,ny).reshape((ny,1))*dy + dy/2. # col vector\n",
    "\n",
    "# replicate to make 2D arrays\n",
    "xc = np.tile(xc,(ny,1))\n",
    "yc = np.tile(yc,(1,nx))\n",
    "print(\"Shape of xc\",np.shape(xc))\n",
    "print(\"Shape of yc\",np.shape(yc))\n",
    "\n",
    "# marsh mask\n",
    "mmask = np.zeros((ny,nx))\n",
    "mmask[2:5,2:5]=1.\n",
    "\n",
    "# uniform elevations to domain\n",
    "dz = .5*np.ones_like(mmask)\n",
    "\n",
    "# ...but make marsh cells taller\n",
    "dz[mmask>0.]=2.\n",
    "print(dz)\n",
    "\n",
    "# arrays for cumulative e-w and n-s erosion\n",
    "xm = np.zeros_like(mmask)\n",
    "ym = np.zeros_like(mmask)"
   ]
  },
  {
   "cell_type": "code",
   "execution_count": 21,
   "metadata": {
    "collapsed": false,
    "deletable": true,
    "editable": true
   },
   "outputs": [
    {
     "name": "stdout",
     "output_type": "stream",
     "text": [
      "[[ 0.   0.   0.   0.   0.   0.   0.   0. ]\n",
      " [ 0.   0.   0.   0.   0.   0.   0.   0. ]\n",
      " [ 0.   0.   1.5  0.   0.  -1.5  0.   0. ]\n",
      " [ 0.   0.   1.5  0.   0.  -1.5  0.   0. ]\n",
      " [ 0.   0.   1.5  0.   0.  -1.5  0.   0. ]\n",
      " [ 0.   0.   0.   0.   0.   0.   0.   0. ]\n",
      " [ 0.   0.   0.   0.   0.   0.   0.   0. ]\n",
      " [ 0.   0.   0.   0.   0.   0.   0.   0. ]]\n",
      "[[ 0.   0.   0.   0.   0.   0.   0. ]\n",
      " [ 0.   0.   0.   0.   0.   0.   0. ]\n",
      " [ 0.   0.   1.5  1.5  1.5  0.   0. ]\n",
      " [ 0.   0.   0.   0.   0.   0.   0. ]\n",
      " [ 0.   0.   0.   0.   0.   0.   0. ]\n",
      " [ 0.   0.  -1.5 -1.5 -1.5  0.   0. ]\n",
      " [ 0.   0.   0.   0.   0.   0.   0. ]\n",
      " [ 0.   0.   0.   0.   0.   0.   0. ]\n",
      " [ 0.   0.   0.   0.   0.   0.   0. ]]\n"
     ]
    }
   ],
   "source": [
    "# scarp height arrays - these are like u, v arrays\n",
    "zmx = np.zeros((ny,nx+1))\n",
    "zmy = np.zeros((ny+1,nx))\n",
    "for iy in range(ny):\n",
    "    zmx[iy,1:nx]=np.diff(dz[iy,:])\n",
    "    \n",
    "for ix in range(nx):\n",
    "    zmy[1:ny,ix]=np.diff(dz[:,ix])\n",
    "    \n",
    "print(zmx)\n",
    "print(zmy)"
   ]
  },
  {
   "cell_type": "code",
   "execution_count": 17,
   "metadata": {
    "collapsed": false,
    "deletable": true,
    "editable": true
   },
   "outputs": [
    {
     "name": "stdout",
     "output_type": "stream",
     "text": [
      "2 2 \n",
      " 0.821917808219 0.821917808219 0.821917808219 0.821917808219 \n",
      " 122.274347908 0.0 122.274347908 0.0\n",
      "3 2 \n",
      " 0.821917808219 0.821917808219 0.821917808219 0.821917808219 \n",
      " 122.274347908 0.0 0.0 0.0\n",
      "4 2 \n",
      " 0.821917808219 0.821917808219 0.821917808219 0.821917808219 \n",
      " 122.274347908 0.0 0.0 0.0\n",
      "5 2 \n",
      " 0.821917808219 0.821917808219 0.821917808219 0.821917808219 \n",
      " 122.274347908 0.0 0.0 122.274347908\n",
      "2 3 \n",
      " 0.821917808219 0.821917808219 0.821917808219 0.821917808219 \n",
      " 0.0 0.0 122.274347908 0.0\n",
      "3 3 \n",
      " 0.821917808219 0.821917808219 0.821917808219 0.821917808219 \n",
      " 0.0 0.0 0.0 0.0\n",
      "4 3 \n",
      " 0.821917808219 0.821917808219 0.821917808219 0.821917808219 \n",
      " 0.0 0.0 0.0 0.0\n",
      "5 3 \n",
      " 0.821917808219 0.821917808219 0.821917808219 0.821917808219 \n",
      " 0.0 0.0 0.0 122.274347908\n",
      "2 4 \n",
      " 0.821917808219 0.821917808219 0.821917808219 0.821917808219 \n",
      " 0.0 122.274347908 122.274347908 0.0\n",
      "3 4 \n",
      " 0.821917808219 0.821917808219 0.821917808219 0.821917808219 \n",
      " 0.0 122.274347908 0.0 0.0\n",
      "4 4 \n",
      " 0.821917808219 0.821917808219 0.821917808219 0.821917808219 \n",
      " 0.0 122.274347908 0.0 0.0\n",
      "5 4 \n",
      " 0.821917808219 0.821917808219 0.821917808219 0.821917808219 \n",
      " 0.0 122.274347908 0.0 122.274347908\n",
      "2 5 \n",
      " 0.821917808219 0.821917808219 0.821917808219 0.821917808219 \n",
      " 122.274347908 0.0 0.0 0.0\n",
      "3 5 \n",
      " 0.821917808219 0.821917808219 0.821917808219 0.821917808219 \n",
      " 122.274347908 0.0 0.0 0.0\n",
      "4 5 \n",
      " 0.821917808219 0.821917808219 0.821917808219 0.821917808219 \n",
      " 122.274347908 0.0 0.0 0.0\n"
     ]
    }
   ],
   "source": [
    "# Calculate volume and mass\n",
    "rhos = 2650.\n",
    "cb = 0.5\n",
    "V = dx*dy*dz\n",
    "M = (1.-cb)*rhos*V\n",
    "\n",
    "tt = 50*24.*3600.       # 50 days\n",
    "dt = 24.*3600.          # dt = 1 day\n",
    "nt = int(np.ceil(tt/dt))\n",
    "\n",
    "# array for tracking total mass\n",
    "M_a =  np.nan*np.ones((nt))\n",
    "M_a[0]=np.sum(M)\n",
    "\n",
    "# Run\n",
    "for i in range(1):\n",
    "    \n",
    "    # calculate scarp heights (retain sign of change)\n",
    "    for iy in range(ny):\n",
    "        zmx[iy,1:nx]=np.diff(dz[iy,:])\n",
    "    \n",
    "    for ix in range(nx):\n",
    "        zmy[1:ny,ix]=np.diff(dz[:,ix])\n",
    "    \n",
    "    # make uniform arrays of erosion distance magnitude (always shoreward)\n",
    "    dxm = dt*300./(3600.*24.*365.)*np.ones_like(zmx)\n",
    "    dym = dt*300./(3600.*24.*365.)*np.ones_like(zmy)\n",
    "    \n",
    "    for ix in range(nx):\n",
    "        for iy in range(ny):\n",
    "            # only do these operations in a cell masked as marsh\n",
    "            if(mmask[iy,ix]>0.):\n",
    "                dxw = dxm[iy,ix]\n",
    "                dxe = dxm[iy,ix+1]\n",
    "                dys = dym[iy,ix]\n",
    "                dyn = dym[iy+1,ix]\n",
    "                \n",
    "                # temporary value for cumulative erosion\n",
    "                xmt = xm[iy,ix]+(dxw+dxe)\n",
    "                ymt = ym[iy,ix]+(dys+dyn)\n",
    "                \n",
    "                # if cumulative erosion is bigger than the e-w cell size, reduce proportionately\n",
    "                if(xmt>dx):\n",
    "                    dxe = dx*dxe/(dx-(dxw+dxe+xm[iy,ix]))\n",
    "                    dxw = dx*dxw/(dx-(dxw+dxe+xm[iy,ix]))\n",
    "\n",
    "                # if cumulative erosion is bigger than the n-s cell size, reduce proportionately\n",
    "                if(ymt>dy):\n",
    "                    dyn = dy*dyn/(dy-(dyn+dys+ym[iy,ix]))\n",
    "                    dys = dy*dys/(dy-(dyn+dys+ym[iy,ix]))\n",
    "                    \n",
    "                # new values for cumulative erosion (should never exceed dx, dy)\n",
    "                xm[iy,ix] += dxw+dxe\n",
    "                ym[iy,ix] += dys+dyn\n",
    "                \n",
    "                # volumes eroded - this is the average of eroding e-w first and n-s second and vice versa\n",
    "                # TODO: make erosion zero if marsh is lower than adjacent cell\n",
    "                vxw = dxw*np.abs(zmx[iy,ix])  *0.5*(dy+(dy-(dyn+dys)))\n",
    "                vxe = dxe*np.abs(zmx[iy,ix+1])*0.5*(dy+(dy-(dyn+dys)))\n",
    "                vys = dys*np.abs(zmy[iy,ix])  *0.5*(dx+(dx-(dxw+dxe)))\n",
    "                vyn = dyn*np.abs(zmy[iy+1,ix])*0.5*(dx+(dx-(dxw+dxe)))\n",
    "                print(iy,ix,\"\\n\",dxe,dxw,dys,dyn,'\\n',vxw,vxe,vys,vyn)\n",
    "                \n",
    "                # subtract mass from eroding marsh cell\n",
    "                M[iy,ix] -= (vxw+vxe+vys+vyn)*(1-cb)*rhos\n",
    "                \n",
    "                # add mass to adjacent cells\n",
    "                # TODO treat corner cell?\n",
    "                M[iy,ix-1] += vxw*(1-cb)*rhos\n",
    "                M[iy,ix+1] += vxe*(1-cb)*rhos\n",
    "                M[iy-1,ix] += vys*(1-cb)*rhos\n",
    "                M[iy+1,ix] += vyn*(1-cb)*rhos\n",
    "                \n",
    "                # update horiz marsh cell fraction\n",
    "                mmask[iy,ix] = (1. - (xm[iy,ix]/dx + ym[iy,ix]/dy))\n",
    "    \n",
    "                if (mmask[iy,ix]<=0.001) :\n",
    "                    mmask[iy,ix]=0.\n",
    "                    dz[iy,ix]=M[iy,ix]/((1-cb)*rhos*dx*dy)\n",
    "\n"
   ]
  },
  {
   "cell_type": "code",
   "execution_count": 18,
   "metadata": {
    "collapsed": false,
    "deletable": true,
    "editable": true
   },
   "outputs": [
    {
     "data": {
      "text/plain": [
       "<matplotlib.collections.PolyCollection at 0x81057f0>"
      ]
     },
     "execution_count": 18,
     "metadata": {},
     "output_type": "execute_result"
    },
    {
     "data": {
      "image/png": "[encoded data removed]",
      "text/plain": [
       "<matplotlib.figure.Figure at 0x8120710>"
      ]
     },
     "metadata": {},
     "output_type": "display_data"
    }
   ],
   "source": [
    "plt.subplot(2,2,1); plt.pcolor(xc,yc,mmask,cmap=plt.cm.terrain)\n",
    "plt.subplot(2,2,2);plt.pcolor(xc,yc,dz,cmap=plt.cm.terrain)"
   ]
  },
  {
   "cell_type": "code",
   "execution_count": 15,
   "metadata": {
    "collapsed": false,
    "deletable": true,
    "editable": true
   },
   "outputs": [
    {
     "name": "stdout",
     "output_type": "stream",
     "text": [
      "[[ 0.          0.          0.          0.          0.          0.          0.        ]\n",
      " [ 0.          0.          0.          0.          0.          0.          0.        ]\n",
      " [ 0.          0.          0.90136986  0.90136986  0.90136986  0.90136986\n",
      "   0.        ]\n",
      " [ 0.          0.          0.90136986  0.90136986  0.90136986  0.90136986\n",
      "   0.        ]\n",
      " [ 0.          0.          0.90136986  0.90136986  0.90136986  0.90136986\n",
      "   0.        ]\n",
      " [ 0.          0.          0.90136986  0.90136986  0.90136986  0.          0.        ]\n",
      " [ 0.          0.          0.          0.          0.          0.          0.        ]\n",
      " [ 0.          0.          0.          0.          0.          0.          0.        ]]\n"
     ]
    }
   ],
   "source": [
    "print(mmask)"
   ]
  },
  {
   "cell_type": "code",
   "execution_count": null,
   "metadata": {
    "collapsed": true
   },
   "outputs": [],
   "source": []
  }
 ],
 "metadata": {
  "kernelspec": {
   "display_name": "Python [default]",
   "language": "python",
   "name": "python3"
  },
  "language_info": {
   "codemirror_mode": {
    "name": "ipython",
    "version": 3
   },
   "file_extension": ".py",
   "mimetype": "text/x-python",
   "name": "python",
   "nbconvert_exporter": "python",
   "pygments_lexer": "ipython3",
   "version": "3.6.0"
  }
 },
 "nbformat": 4,
 "nbformat_minor": 2
}
