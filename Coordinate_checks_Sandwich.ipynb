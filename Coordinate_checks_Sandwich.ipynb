{
 "cells": [
  {
   "cell_type": "code",
   "execution_count": 1,
   "metadata": {
    "collapsed": true
   },
   "outputs": [],
   "source": [
    "# convert decimal lat / lon in WGS83 EPSG: 4326 to NAD83(2011) UTM meters, Zone 19N EPSG:26919\n",
    "# to get this to work, I had to define GDAL_DATA in my Win environment path\n",
    "\n",
    "# csherwood@usgs.gov\n",
    "# 31 January 2017"
   ]
  },
  {
   "cell_type": "markdown",
   "metadata": {},
   "source": [
    "Disclaimer\n",
    "\n",
    "Unless otherwise noted, the software and content on this site is\n",
    "in the public domain because it contains materials developed by\n",
    "the United States Geological Survey, an agency of the United States\n",
    "Department of Interior. For more information, see the official USGS\n",
    "copyright policy at:\n",
    "\n",
    "http://www.usgs.gov/visual-id/credit_usgs.html#copyright\n",
    "\n",
    "This software and content is distributed on an \"AS IS\" BASIS, WITHOUT\n",
    "WARRANTIES OR CONDITIONS OF ANY KIND, either express or implied. Any\n",
    "dependent libraries included here are distributed under open source\n",
    "(or open source-like) licenses/agreements. Appropriate license agreements\n",
    "are included with each library."
   ]
  },
  {
   "cell_type": "code",
   "execution_count": 2,
   "metadata": {
    "collapsed": false
   },
   "outputs": [
    {
     "name": "stdout",
     "output_type": "stream",
     "text": [
      " >> SOURCE COORDINATE REFERENCE SYSTEM: \n",
      "GEOGCS[\"WGS 84\",\n",
      "    DATUM[\"WGS_1984\",\n",
      "        SPHEROID[\"WGS 84\",6378137,298.257223563,\n",
      "            AUTHORITY[\"EPSG\",\"7030\"]],\n",
      "        AUTHORITY[\"EPSG\",\"6326\"]],\n",
      "    PRIMEM[\"Greenwich\",0,\n",
      "        AUTHORITY[\"EPSG\",\"8901\"]],\n",
      "    UNIT[\"degree\",0.0174532925199433,\n",
      "        AUTHORITY[\"EPSG\",\"9122\"]],\n",
      "    AUTHORITY[\"EPSG\",\"4326\"]]\n",
      " >> DESTINATION COORDINATE REFERENCE SYSTEM: \n",
      "PROJCS[\"NAD83 / UTM zone 19N\",\n",
      "    GEOGCS[\"NAD83\",\n",
      "        DATUM[\"North_American_Datum_1983\",\n",
      "            SPHEROID[\"GRS 1980\",6378137,298.257222101,\n",
      "                AUTHORITY[\"EPSG\",\"7019\"]],\n",
      "            TOWGS84[0,0,0,0,0,0,0],\n",
      "            AUTHORITY[\"EPSG\",\"6269\"]],\n",
      "        PRIMEM[\"Greenwich\",0,\n",
      "            AUTHORITY[\"EPSG\",\"8901\"]],\n",
      "        UNIT[\"degree\",0.0174532925199433,\n",
      "            AUTHORITY[\"EPSG\",\"9122\"]],\n",
      "        AUTHORITY[\"EPSG\",\"4269\"]],\n",
      "    PROJECTION[\"Transverse_Mercator\"],\n",
      "    PARAMETER[\"latitude_of_origin\",0],\n",
      "    PARAMETER[\"central_meridian\",-69],\n",
      "    PARAMETER[\"scale_factor\",0.9996],\n",
      "    PARAMETER[\"false_easting\",500000],\n",
      "    PARAMETER[\"false_northing\",0],\n",
      "    UNIT[\"metre\",1,\n",
      "        AUTHORITY[\"EPSG\",\"9001\"]],\n",
      "    AXIS[\"Easting\",EAST],\n",
      "    AXIS[\"Northing\",NORTH],\n",
      "    AUTHORITY[\"EPSG\",\"26919\"]]\n"
     ]
    }
   ],
   "source": [
    "import numpy as np\n",
    "\n",
    "# GDAL Python library\n",
    "from osgeo import osr\n",
    "# EXIF Reader\n",
    "import exifread\n",
    "# Image library\n",
    "from PIL import Image\n",
    "\n",
    "import matplotlib.pyplot as plt\n",
    "get_ipython().magic(u'matplotlib inline')\n",
    "\n",
    "src_crs = 'EPSG:4326'\n",
    "dst_crs = 'EPSG:26919'\n",
    "\n",
    "# source coordinate system\n",
    "srs_cs = osr.SpatialReference()\n",
    "srs_cs.SetFromUserInput(src_crs)\n",
    "\n",
    "# destination coordinate system\n",
    "dst_cs = osr.SpatialReference()\n",
    "dst_cs.SetFromUserInput(dst_crs)\n",
    "\n",
    "# osr image transformation object\n",
    "transform = osr.CoordinateTransformation(srs_cs, dst_cs)\n",
    "\n",
    "# print coordinate system information\n",
    "print \" >> SOURCE COORDINATE REFERENCE SYSTEM: \"\n",
    "print srs_cs\n",
    "\n",
    "print \" >> DESTINATION COORDINATE REFERENCE SYSTEM: \"\n",
    "print dst_cs\n"
   ]
  },
  {
   "cell_type": "markdown",
   "metadata": {},
   "source": [
    "![Screen grab of Vdatum results](vdatum_screen_grab.jpg)"
   ]
  },
  {
   "cell_type": "code",
   "execution_count": 10,
   "metadata": {
    "collapsed": false
   },
   "outputs": [
    {
     "name": "stdout",
     "output_type": "stream",
     "text": [
      "looking for:                   376707.748, 4624914.405, 2.715\n",
      "41.7664975722, -70.4832906278, 376707.748, 4624914.405, 2.715\n"
     ]
    }
   ],
   "source": [
    "# Check conversion using results from OPUS solution, per report Barry ran on Nov 11, 2016\n",
    "# Matches VDatum results shown above \n",
    "lat = float(41)+float(45)/60.+float(59.39126)/3600.\n",
    "lon = -(float(70)+float(28)/60.+float(59.84626)/3600.)\n",
    "ze = float(-25.464)\n",
    "e,n,zt = transform.TransformPoint(lon, lat, ze)\n",
    "print(\"looking for:                   376707.748, 4624914.405, 2.715\")\n",
    "print(\"{0}, {1}, {2:.3f}, {3:.3f}, {4:.3f}\".format(lat,lon,e,n,zt))"
   ]
  },
  {
   "cell_type": "code",
   "execution_count": 13,
   "metadata": {
    "collapsed": false
   },
   "outputs": [
    {
     "name": "stdout",
     "output_type": "stream",
     "text": [
      "(376703.0748705117, 4624991.529080104)\n"
     ]
    }
   ],
   "source": [
    "latdd, londd = (+41.767191268333,-70.483362830000)\n",
    "ze = 6.4162\n",
    "e,n,zt = transform.TransformPoint(londd, latdd, ze)\n",
    "print(e,n)"
   ]
  }
 ],
 "metadata": {
  "kernelspec": {
   "display_name": "Python 2",
   "language": "python",
   "name": "python2"
  },
  "language_info": {
   "codemirror_mode": {
    "name": "ipython",
    "version": 2
   },
   "file_extension": ".py",
   "mimetype": "text/x-python",
   "name": "python",
   "nbconvert_exporter": "python",
   "pygments_lexer": "ipython2",
   "version": "2.7.12"
  }
 },
 "nbformat": 4,
 "nbformat_minor": 0
}
