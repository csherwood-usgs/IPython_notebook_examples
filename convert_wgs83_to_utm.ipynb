{
 "cells": [
  {
   "cell_type": "markdown",
   "metadata": {},
   "source": [
    "Disclaimer\n",
    "\n",
    "Unless otherwise noted, the software and content on this site is\n",
    "in the public domain because it contains materials developed by\n",
    "the United States Geological Survey, an agency of the United States\n",
    "Department of Interior. For more information, see the official USGS\n",
    "copyright policy at:\n",
    "\n",
    "http://www.usgs.gov/visual-id/credit_usgs.html#copyright\n",
    "\n",
    "This software and content is distributed on an \"AS IS\" BASIS, WITHOUT\n",
    "WARRANTIES OR CONDITIONS OF ANY KIND, either express or implied. Any\n",
    "dependent libraries included here are distributed under open source\n",
    "(or open source-like) licenses/agreements. Appropriate license agreements\n",
    "are included with each library."
   ]
  },
  {
   "cell_type": "code",
   "execution_count": 1,
   "metadata": {
    "collapsed": false
   },
   "outputs": [
    {
     "name": "stdout",
     "output_type": "stream",
     "text": [
      " >> SOURCE COORDINATE REFERENCE SYSTEM: \n",
      "GEOGCS[\"WGS 84\",\n",
      "    DATUM[\"WGS_1984\",\n",
      "        SPHEROID[\"WGS 84\",6378137,298.257223563,\n",
      "            AUTHORITY[\"EPSG\",\"7030\"]],\n",
      "        AUTHORITY[\"EPSG\",\"6326\"]],\n",
      "    PRIMEM[\"Greenwich\",0,\n",
      "        AUTHORITY[\"EPSG\",\"8901\"]],\n",
      "    UNIT[\"degree\",0.0174532925199433,\n",
      "        AUTHORITY[\"EPSG\",\"9122\"]],\n",
      "    AUTHORITY[\"EPSG\",\"4326\"]]\n",
      " >> DESTINATION COORDINATE REFERENCE SYSTEM: \n",
      "PROJCS[\"NAD83(NSRS2007) / UTM zone 17N\",\n",
      "    GEOGCS[\"NAD83(NSRS2007)\",\n",
      "        DATUM[\"NAD83_National_Spatial_Reference_System_2007\",\n",
      "            SPHEROID[\"GRS 1980\",6378137,298.257222101,\n",
      "                AUTHORITY[\"EPSG\",\"7019\"]],\n",
      "            TOWGS84[0,0,0,0,0,0,0],\n",
      "            AUTHORITY[\"EPSG\",\"6759\"]],\n",
      "        PRIMEM[\"Greenwich\",0,\n",
      "            AUTHORITY[\"EPSG\",\"8901\"]],\n",
      "        UNIT[\"degree\",0.0174532925199433,\n",
      "            AUTHORITY[\"EPSG\",\"9122\"]],\n",
      "        AUTHORITY[\"EPSG\",\"4759\"]],\n",
      "    PROJECTION[\"Transverse_Mercator\"],\n",
      "    PARAMETER[\"latitude_of_origin\",0],\n",
      "    PARAMETER[\"central_meridian\",-81],\n",
      "    PARAMETER[\"scale_factor\",0.9996],\n",
      "    PARAMETER[\"false_easting\",500000],\n",
      "    PARAMETER[\"false_northing\",0],\n",
      "    UNIT[\"metre\",1,\n",
      "        AUTHORITY[\"EPSG\",\"9001\"]],\n",
      "    AXIS[\"Easting\",EAST],\n",
      "    AXIS[\"Northing\",NORTH],\n",
      "    AUTHORITY[\"EPSG\",\"3724\"]]\n"
     ]
    }
   ],
   "source": [
    "# convert decimal lat / lon in WGS83 EPSG: 4326 to NAD83(NRS2007) UTM meters, Zone 17N EPSG:3724\n",
    "# to get this to work, I had to define GDAL_DATA in my Win environment path\n",
    "\n",
    "# csherwood@usgs.gov\n",
    "# 4 November 2016\n",
    "import numpy as np\n",
    "\n",
    "# GDAL Python library\n",
    "from osgeo import osr\n",
    "# EXIF Reader\n",
    "import exifread\n",
    "# Image library\n",
    "from PIL import Image\n",
    "\n",
    "import matplotlib.pyplot as plt\n",
    "get_ipython().magic(u'matplotlib inline')\n",
    "\n",
    "src_crs = 'EPSG:4326'\n",
    "dst_crs = 'EPSG:3724'\n",
    "\n",
    "# source coordinate system\n",
    "srs_cs = osr.SpatialReference()\n",
    "srs_cs.SetFromUserInput(src_crs)\n",
    "\n",
    "# destination coordinate system\n",
    "dst_cs = osr.SpatialReference()\n",
    "dst_cs.SetFromUserInput(dst_crs)\n",
    "\n",
    "# osr image transformation object\n",
    "transform = osr.CoordinateTransformation(srs_cs, dst_cs)\n",
    "\n",
    "# print coordinate system information\n",
    "print \" >> SOURCE COORDINATE REFERENCE SYSTEM: \"\n",
    "print srs_cs\n",
    "\n",
    "print \" >> DESTINATION COORDINATE REFERENCE SYSTEM: \"\n",
    "print dst_cs\n"
   ]
  },
  {
   "cell_type": "code",
   "execution_count": 9,
   "metadata": {
    "collapsed": true
   },
   "outputs": [],
   "source": [
    "    # I checked this transform using VDATUM for the Point 1 south below, with source:\n",
    "    # Source: \"WGS84(transit) - use NAD83 (see NGS's HTDP)\"\n",
    "    # Target: \"NAVD88\" using GEOID12B\n",
    "    # northing and easting transforms were reproduced exactly\n",
    "    # for Point 1 south, height was 1.0326 m NADV88, with vertical uncertainty of 7.6158 cm\n",
    "    # deltaz = 28.7909\n",
    "    # for Point 9 north, deltaz - 28.7911\n",
    "    # so, using:\n",
    "    deltaz = 28.7910"
   ]
  },
  {
   "cell_type": "code",
   "execution_count": 17,
   "metadata": {
    "collapsed": false
   },
   "outputs": [
    {
     "name": "stdout",
     "output_type": "stream",
     "text": [
      "Label,Lat (degrees),Lat (minutes),Lat (seconds),Lon (degrees),Lon (minutes),Lon (seconds),Z (Height above the WGS84 ellipsoide),Lat (WGS84),Lon(WGS84)\n",
      "\n",
      "('Point 1 south', 29.683666308333333, -81.21871357222223, -27.7583, 478838.975406146, 3283753.8587192334, 1.032700000000002)\n",
      "('Point2 south', 29.683818480555555, -81.21888821944445, -28.6757, 478822.10975602764, 3283770.751844614, 0.11530000000000129)\n",
      "('Point3 south', 29.683665716666667, -81.21893698611112, -28.7528, 478817.35943742096, 3283753.8340433664, 0.03819999999999979)\n",
      "('Point4 south', 29.683768733333334, -81.21898770833333, -28.537, 478812.47354208375, 3283765.2579078246, 0.25400000000000134)\n",
      "('Point5 south', 29.683624155555556, -81.21885154166667, -28.1598, 478825.6176873772, 3283749.2132986, 0.6311999999999998)\n",
      "('Point6 south', 29.683519158333333, -81.21888063333334, -27.6961, 478822.7809864215, 3283737.5845945445, 1.094899999999999)\n",
      "('Point7 south', 29.683355158333335, -81.21875733333333, -27.541, 478834.6762250281, 3283719.3903076123, 1.25)\n",
      "('Point8 south', 29.683599011111113, -81.21853555833333, -28.6292, 478856.18460426194, 3283746.369426433, 0.1617999999999995)\n",
      "('Point 1 north', 29.68535756111111, -81.21951017777778, -27.733, 478762.2574002174, 3283941.4009375074, 1.0579999999999998)\n",
      "('Point 2 north', 29.685357766666666, -81.21942733611111, -27.574, 478770.2724449391, 3283941.4085093513, 1.2169999999999987)\n",
      "('Point 3 north', 29.685594636111112, -81.21942553055555, -27.98, 478770.4969125541, 3283967.6540792477, 0.8109999999999999)\n",
      "('Point 4 north', 29.685326944444444, -81.21966511111111, -28.921, 478747.2610275759, 3283938.036962923, -0.129999999999999)\n",
      "('Point 5 north', 29.68567695, -81.21952023611111, -28.1661, 478761.35139719624, 3283976.7921070773, 0.6249000000000002)\n",
      "('Point 6 north', 29.686064133333332, -81.21969276388889, -28.0038, 478744.74070847017, 3284019.7249617446, 0.7872000000000021)\n",
      "('Point 7 north', 29.68620661111111, -81.21983351111112, -27.91, 478731.1533887029, 3284035.5378296534, 0.8810000000000002)\n",
      "('Point 8 north', 29.686231147222223, -81.21977828611111, -27.7394, 478736.5015741752, 3284038.246359037, 1.0516000000000005)\n",
      "('Point 9 north', 29.686200675, -81.2197335138889, -28.087, 478740.82687430375, 3284034.8617095733, 0.7040000000000006)\n"
     ]
    },
    {
     "data": {
      "text/plain": [
       "<function close>"
      ]
     },
     "execution_count": 17,
     "metadata": {},
     "output_type": "execute_result"
    }
   ],
   "source": [
    "fnin = \"D:\\\\crs\\\\proj\\\\2017_Matthew\\\\maitane\\\\2016-10-30_control_points.csv\"\n",
    "fnout = \"D:\\\\crs\\\\proj\\\\2017_Matthew\\\\maitane\\\\2016-10-30_GCP_UTM.csv\"\n",
    "\n",
    "header_out = \"Label, Lat (WGS84), Lon (WGS84), Alt. (m), Easting (m NAD83 UTM17N), Northing (m NAD83 UTM17N), Elev. (m NADV88)\"\n",
    "f=open(fnin,'r')\n",
    "fo = open(fnout, 'wb')\n",
    "header = f.readline()\n",
    "print header\n",
    "fo.write(header_out+\"\\n\")\n",
    "for line in f:\n",
    "    line = line.strip()\n",
    "    col = line.split(',')\n",
    "    name = col[0]\n",
    "    lat = float(col[1])+float(col[2])/60.+float(col[3])/3600.\n",
    "    lon = -(float(col[4])+float(col[5])/60.+float(col[6])/3600.)\n",
    "    ze = float(col[7])\n",
    "    e,n,zt = transform.TransformPoint(lon, lat, ze)\n",
    "    znavd88 = zt+deltaz\n",
    "    print(name, lat, lon, ze, e, n, znavd88)\n",
    "    #fo.write(name+\", \"+lat+\", \"+lon+\", \"+ze+\", \"+e+\", \"+n+\", \"+znavd88+\"\\n\")\n",
    "f.close\n",
    "fo.close"
   ]
  }
 ],
 "metadata": {
  "kernelspec": {
   "display_name": "Python 2",
   "language": "python",
   "name": "python2"
  },
  "language_info": {
   "codemirror_mode": {
    "name": "ipython",
    "version": 2
   },
   "file_extension": ".py",
   "mimetype": "text/x-python",
   "name": "python",
   "nbconvert_exporter": "python",
   "pygments_lexer": "ipython2",
   "version": "2.7.12"
  }
 },
 "nbformat": 4,
 "nbformat_minor": 0
}
