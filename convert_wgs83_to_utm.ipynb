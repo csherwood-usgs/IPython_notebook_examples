{
 "cells": [
  {
   "cell_type": "code",
   "execution_count": 1,
   "metadata": {
    "collapsed": false
   },
   "outputs": [
    {
     "name": "stdout",
     "output_type": "stream",
     "text": [
      " >> SOURCE COORDINATE REFERENCE SYSTEM: \n",
      "GEOGCS[\"WGS 84\",\n",
      "    DATUM[\"WGS_1984\",\n",
      "        SPHEROID[\"WGS 84\",6378137,298.257223563,\n",
      "            AUTHORITY[\"EPSG\",\"7030\"]],\n",
      "        AUTHORITY[\"EPSG\",\"6326\"]],\n",
      "    PRIMEM[\"Greenwich\",0,\n",
      "        AUTHORITY[\"EPSG\",\"8901\"]],\n",
      "    UNIT[\"degree\",0.0174532925199433,\n",
      "        AUTHORITY[\"EPSG\",\"9122\"]],\n",
      "    AUTHORITY[\"EPSG\",\"4326\"]]\n",
      " >> DESTINATION COORDINATE REFERENCE SYSTEM: \n",
      "PROJCS[\"NAD83(NSRS2007) / UTM zone 17N\",\n",
      "    GEOGCS[\"NAD83(NSRS2007)\",\n",
      "        DATUM[\"NAD83_National_Spatial_Reference_System_2007\",\n",
      "            SPHEROID[\"GRS 1980\",6378137,298.257222101,\n",
      "                AUTHORITY[\"EPSG\",\"7019\"]],\n",
      "            TOWGS84[0,0,0,0,0,0,0],\n",
      "            AUTHORITY[\"EPSG\",\"6759\"]],\n",
      "        PRIMEM[\"Greenwich\",0,\n",
      "            AUTHORITY[\"EPSG\",\"8901\"]],\n",
      "        UNIT[\"degree\",0.0174532925199433,\n",
      "            AUTHORITY[\"EPSG\",\"9122\"]],\n",
      "        AUTHORITY[\"EPSG\",\"4759\"]],\n",
      "    PROJECTION[\"Transverse_Mercator\"],\n",
      "    PARAMETER[\"latitude_of_origin\",0],\n",
      "    PARAMETER[\"central_meridian\",-81],\n",
      "    PARAMETER[\"scale_factor\",0.9996],\n",
      "    PARAMETER[\"false_easting\",500000],\n",
      "    PARAMETER[\"false_northing\",0],\n",
      "    UNIT[\"metre\",1,\n",
      "        AUTHORITY[\"EPSG\",\"9001\"]],\n",
      "    AXIS[\"Easting\",EAST],\n",
      "    AXIS[\"Northing\",NORTH],\n",
      "    AUTHORITY[\"EPSG\",\"3724\"]]\n"
     ]
    }
   ],
   "source": [
    "# convert decimal lat / lon in WGS83 EPSG: 4326 to NAD83(NRS2007) UTM meters, Zone 17N EPSG:3724\n",
    "# to get this to work, I had to define GDAL_DATA in my Win environment path\n",
    "import numpy as np\n",
    "\n",
    "# GDAL Python library\n",
    "from osgeo import osr\n",
    "# EXIF Reader\n",
    "import exifread\n",
    "# Image library\n",
    "from PIL import Image\n",
    "\n",
    "import matplotlib.pyplot as plt\n",
    "get_ipython().magic(u'matplotlib inline')\n",
    "\n",
    "src_crs = 'EPSG:4326'\n",
    "dst_crs = 'EPSG:3724'\n",
    "\n",
    "# source coordinate system\n",
    "srs_cs = osr.SpatialReference()\n",
    "srs_cs.SetFromUserInput(src_crs)\n",
    "\n",
    "# destination coordinate system\n",
    "dst_cs = osr.SpatialReference()\n",
    "dst_cs.SetFromUserInput(dst_crs)\n",
    "\n",
    "# osr image transformation object\n",
    "transform = osr.CoordinateTransformation(srs_cs, dst_cs)\n",
    "\n",
    "# print coordinate system information\n",
    "print \" >> SOURCE COORDINATE REFERENCE SYSTEM: \"\n",
    "print srs_cs\n",
    "\n",
    "print \" >> DESTINATION COORDINATE REFERENCE SYSTEM: \"\n",
    "print dst_cs\n"
   ]
  },
  {
   "cell_type": "code",
   "execution_count": 17,
   "metadata": {
    "collapsed": false
   },
   "outputs": [
    {
     "ename": "IOError",
     "evalue": "[Errno 2] No such file or directory: 'D:\\\\2017_Matthew\\\\maitane\\\\2016-10-30_control_points.csv'",
     "output_type": "error",
     "traceback": [
      "\u001b[1;31m---------------------------------------------------------------------------\u001b[0m",
      "\u001b[1;31mIOError\u001b[0m                                   Traceback (most recent call last)",
      "\u001b[1;32m<ipython-input-17-c1b0828bc2d4>\u001b[0m in \u001b[0;36m<module>\u001b[1;34m()\u001b[0m\n\u001b[0;32m      1\u001b[0m \u001b[0mfnin\u001b[0m \u001b[1;33m=\u001b[0m \u001b[1;34m\"D:\\\\2017_Matthew\\\\maitane\\\\2016-10-30_control_points.csv\"\u001b[0m\u001b[1;33m\u001b[0m\u001b[0m\n\u001b[1;32m----> 2\u001b[1;33m \u001b[0mf\u001b[0m\u001b[1;33m=\u001b[0m\u001b[0mopen\u001b[0m\u001b[1;33m(\u001b[0m\u001b[0mfnin\u001b[0m\u001b[1;33m,\u001b[0m\u001b[1;34m'r'\u001b[0m\u001b[1;33m)\u001b[0m\u001b[1;33m\u001b[0m\u001b[0m\n\u001b[0m\u001b[0;32m      3\u001b[0m \u001b[0mheader\u001b[0m \u001b[1;33m=\u001b[0m \u001b[0mf\u001b[0m\u001b[1;33m.\u001b[0m\u001b[0mreadline\u001b[0m\u001b[1;33m(\u001b[0m\u001b[1;33m)\u001b[0m\u001b[1;33m\u001b[0m\u001b[0m\n\u001b[0;32m      4\u001b[0m \u001b[1;32mprint\u001b[0m \u001b[0mheader\u001b[0m\u001b[1;33m\u001b[0m\u001b[0m\n\u001b[0;32m      5\u001b[0m \u001b[1;32mfor\u001b[0m \u001b[0mline\u001b[0m \u001b[1;32min\u001b[0m \u001b[0mf\u001b[0m\u001b[1;33m:\u001b[0m\u001b[1;33m\u001b[0m\u001b[0m\n",
      "\u001b[1;31mIOError\u001b[0m: [Errno 2] No such file or directory: 'D:\\\\2017_Matthew\\\\maitane\\\\2016-10-30_control_points.csv'"
     ]
    }
   ],
   "source": [
    "fnin = \"D:\\\\2017_Matthew\\\\maitane\\\\2016-10-30_control_points.csv\"\n",
    "f=open(fnin,'r')\n",
    "header = f.readline()\n",
    "print header\n",
    "for line in f:\n",
    "    line = line.strip()\n",
    "    col = line.split(',')\n",
    "    name = col[0]\n",
    "    lat = float(col[1])+float(col[2])/60.+float(col[3])/3600.\n",
    "    lon = -(float(col[4])+float(col[5])/60.+float(col[6])/3600.)\n",
    "    print(name, lat, lon)\n",
    "f.close"
   ]
  }
 ],
 "metadata": {
  "kernelspec": {
   "display_name": "Python 2",
   "language": "python",
   "name": "python2"
  },
  "language_info": {
   "codemirror_mode": {
    "name": "ipython",
    "version": 2
   },
   "file_extension": ".py",
   "mimetype": "text/x-python",
   "name": "python",
   "nbconvert_exporter": "python",
   "pygments_lexer": "ipython2",
   "version": "2.7.12"
  }
 },
 "nbformat": 4,
 "nbformat_minor": 0
}
