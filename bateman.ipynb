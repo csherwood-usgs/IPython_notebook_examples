{
 "cells": [
  {
   "cell_type": "markdown",
   "metadata": {},
   "source": [
    "<h2>Bateman Equations for Multiple Decay</h2>\n",
    "\n",
    "The inventory of each of four compounds was calculated assuming a multi-step reaction model. These calculations require several assumptions (Eganhouse and Pontolillo, 2008), as follows: (1) reactions and loss occur through first-order kinetics; (2) the only competing reaction is loss through unspecified physical processes discussed below; and (3) rates are constant over time and uniform throughout the sediment deposit (except the physical loss rate). The time-rate of change in $DDE$ inventory was determined by dechlorination to $DDMU$ and by possible losses through other processes. Likewise, the change in $DDMU$ inventory was determined losses from dechlorination to $DDNU$, gains from dechlorination of parent $DDE$, and losses by other processes. $DDNU$ inventory changes were analogous, with losses to an unspecified compound, gains from parent $DDMU$, and possible losses through other processes. The inventory of the final, unspecified product changes with gains from transformation of $DDMU$ and possible losses to other processes. The coupled differential equations (1) are\n",
    "\n",
    "$\\begin{matrix}\n",
    "\\frac{d{{C}_{DDE}}}{dt}=-{{\\lambda }_{DDE\\to DDMU}}{{C}_{DDE}}-{{\\lambda }_{Loss}}{{C}_{DDE}}  \\\\\n",
    "   \\frac{d{{C}_{DDMU}}}{dt}=-{{\\lambda }_{DDMU\\to DDNS}}{{C}_{DDMU}}+{{\\lambda }_{DDE\\to DDMU}}{{C}_{DDE}}-{{\\lambda }_{Loss}}{{C}_{DDMU}}  \\\\\n",
    "   \\frac{d{{C}_{DDNU}}}{dt}=-{{\\lambda }_{DDNU\\to ?}}{{C}_{DDNU}}+{{\\lambda }_{DDMU\\to DDNU}}{{C}_{DDMU}}-{{\\lambda }_{Loss}}{{C}_{DDNU}}  \\\\\n",
    "   \\frac{d{{C}_{UN}}}{dt}={{\\lambda }_{DDNU\\to UN}}{{C}_{DDNU}}-{{\\lambda }_{Loss}}{{C}_{UN}}  \\\\\n",
    "\\end{matrix}$\n",
    "\n",
    "where the molar concentrations $C$ [$\\mu$mol/kg dry sediment] of each compound and the transformation rate coefficients  [y-1] are labeled with subscripts. The losses to other processes accounted for physical removal of compounds from the sediment. Processes that have been suggested include direct desorption, resuspension and desorption, desorption into porewater and irrigation, and uptake by benthic deposit feeders. We have assumed that the combined rate coefficient for these processes applies equally to all four compounds. \n"
   ]
  },
  {
   "cell_type": "code",
   "execution_count": 3,
   "metadata": {
    "collapsed": false
   },
   "outputs": [
    {
     "name": "stdout",
     "output_type": "stream",
     "text": [
      "Shape of the final concentration matrix:  (50L, 4L)\n"
     ]
    },
    {
     "data": {
      "text/plain": [
       "<matplotlib.legend.Legend at 0x11a03f60>"
      ]
     },
     "execution_count": 3,
     "metadata": {},
     "output_type": "execute_result"
    },
    {
     "data": {
      "image/png": "[encoded data removed]",
      "text/plain": [
       "<matplotlib.figure.Figure at 0x3f098d0>"
      ]
     },
     "metadata": {},
     "output_type": "display_data"
    }
   ],
   "source": [
    "from scipy.integrate import odeint\n",
    "from pylab import *\n",
    "%matplotlib inline\n",
    "\n",
    "# decay rates are global so they can be seen inside the function \n",
    "global lam\n",
    "lam = array([.0052, .01, .0161, .05])\n",
    "\n",
    "# define a function to represent coupled ordinary differential eqns.\n",
    "def dcdt(c,t):\n",
    "    dfdt = np.zeros(4)\n",
    "    dfdt[0] = c[0]* -lam[0] - c[0]*lam[3]\n",
    "    dfdt[1] = c[1]* -lam[1] + c[0]*lam[0] - c[1]*lam[3] \n",
    "    dfdt[2] = c[2]* -lam[2] + c[1]*lam[1] - c[2]*lam[3]\n",
    "    dfdt[3] =                 c[2]*lam[2] - c[3]*lam[3]\n",
    "    return dfdt\n",
    "    \n",
    "# intial concentration for four constituents\n",
    "C0 = array([.68, .23, .06, 0.])\n",
    "# time array\n",
    "t = linspace(0.0,100.,50)\n",
    "# call \n",
    "C = odeint(dcdt,C0,t)\n",
    "\n",
    "print \"Shape of the final concentration matrix: \",shape(C)\n",
    "fig = plt.figure()\n",
    "plt.plot(t,C[:,0],label='$DDE$')\n",
    "plt.plot(t,C[:,1],label='$DDMU$')\n",
    "plt.plot(t,C[:,2],label='$DDNU$')\n",
    "plt.plot(t,C[:,3],label='?')\n",
    "plt.xlabel('Time (years)')\n",
    "plt.ylabel('Concentration ($\\mu$mol / kg)')\n",
    "plt.legend(loc='upper right')"
   ]
  },
  {
   "cell_type": "code",
   "execution_count": 27,
   "metadata": {
    "collapsed": false
   },
   "outputs": [
    {
     "name": "stdout",
     "output_type": "stream",
     "text": [
      "Variable   Type        Data/Info\n",
      "--------------------------------\n",
      "C          ndarray     50Lx4L: 200 elems, type `float64`, 1600 bytes\n",
      "C0         ndarray     4L: 4 elems, type `float64`, 32 bytes\n",
      "c          ndarray     0Lx0Lx0Lx0L: 0 elems, type `float64`, 0 bytes\n",
      "dcdt       function    <function dcdt at 0x000000000BE27BA8>\n",
      "dfdt       ndarray     4L: 4 elems, type `float64`, 32 bytes\n",
      "lam        ndarray     3L: 3 elems, type `float64`, 24 bytes\n",
      "odeint     function    <function odeint at 0x00000000084FCE48>\n",
      "scipy      module      <module 'scipy' from 'C:\\<...>ages\\scipy\\__init__.pyc'>\n",
      "t          ndarray     50L: 50 elems, type `float64`, 400 bytes\n"
     ]
    }
   ],
   "source": [
    "whos"
   ]
  }
 ],
 "metadata": {
  "kernelspec": {
   "display_name": "Python 2",
   "language": "python",
   "name": "python2"
  },
  "language_info": {
   "codemirror_mode": {
    "name": "ipython",
    "version": 2
   },
   "file_extension": ".py",
   "mimetype": "text/x-python",
   "name": "python",
   "nbconvert_exporter": "python",
   "pygments_lexer": "ipython2",
   "version": "2.7.12"
  }
 },
 "nbformat": 4,
 "nbformat_minor": 0
}
