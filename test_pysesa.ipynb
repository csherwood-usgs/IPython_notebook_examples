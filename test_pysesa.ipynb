{
 "cells": [
  {
   "cell_type": "code",
   "execution_count": 1,
   "metadata": {
    "collapsed": false
   },
   "outputs": [
    {
     "name": "stdout",
     "output_type": "stream",
     "text": [
      "Using matplotlib backend: Qt4Agg\n"
     ]
    }
   ],
   "source": [
    "# general settings\n",
    "import pysesa\n",
    "import os\n",
    "import numpy as np\n",
    "from laspy.file import File\n",
    "\n",
    "#infile = os.path.expanduser(\"~\")+os.sep+'pysesa_test'+os.sep+'example_100000pts.xyz' \n",
    "infile = r\"D:\\crs\\proj\\point_clouds\\2016-09-21_Sandwich_v1_points-1-2.laz\"\n",
    "\n",
    "# =========================================================\n",
    "def ascol( arr ):\n",
    "    '''\n",
    "    reshapes row matrix to be a column matrix (N,1).\n",
    "    '''\n",
    "    if len( arr.shape ) == 1: arr = arr.reshape( ( arr.shape[0], 1 ) )\n",
    "    return arr\n",
    "\n",
    "def scaled_x_dimension(las_file):\n",
    "    x_dimension = las_file.X\n",
    "    scale = las_file.header.scale[0]\n",
    "    offset = las_file.header.offset[0]\n",
    "    return(x_dimension*scale + offset)\n",
    "\n",
    "def scaled_y_dimension(las_file):\n",
    "    y_dimension = las_file.Y\n",
    "    scale = las_file.header.scale[1]\n",
    "    offset = las_file.header.offset[1]\n",
    "    return(y_dimension*scale + offset)\n",
    "\n",
    "def scaled_z_dimension(las_file):\n",
    "    z_dimension = las_file.Z\n",
    "    scale = las_file.header.scale[2]\n",
    "    offset = las_file.header.offset[2]\n",
    "    return(z_dimension*scale + offset)\n",
    "\n",
    "X = []; Y = []; Z = []\n",
    "R = []; G = []; B = []\n",
    "\n",
    "\n",
    "inFile = File(infile, mode='r') \n",
    "\n",
    "X = scaled_x_dimension(inFile)\n",
    "Y = scaled_y_dimension(inFile)\n",
    "Z = scaled_z_dimension(inFile)\n",
    "R = inFile.red\n",
    "G = inFile.green\n",
    "B = inFile.blue\n",
    "\n",
    "# turn into single xyz array\n",
    "coords = np.vstack((np.hstack(X), np.hstack(Y), np.hstack(Z))).T\n",
    "del X, Y, Z\n",
    "\n",
    "# turn into local coordinate system\n",
    "coords = coords - np.min(coords, axis=0)\n",
    "\n",
    "rgb = np.vstack((np.hstack(R), np.hstack(G), np.hstack(B))).T\n",
    "del R, G, B\n",
    "\n",
    "# scale the uint16 values to [0,1]\n",
    "rgb = rgb/65535\n",
    "\n",
    "## not going to plolt the whole point cloud - decimate by ...\n",
    "decimation= 10"
   ]
  },
  {
   "cell_type": "code",
   "execution_count": 5,
   "metadata": {
    "collapsed": false
   },
   "outputs": [],
   "source": [
    "import matplotlib.pyplot as plt\n",
    "fig, ax = plt.subplots()\n",
    "ax.scatter(coords[::decimation,0], coords[::decimation,1], s=0.05, facecolors=rgb[::decimation,:], linewidth=0)\n",
    "#plt.show()\n",
    "plt.axis('tight')\n",
    "plt.savefig('test.png', dpi=1000)\n",
    "del fig, ax"
   ]
  },
  {
   "cell_type": "code",
   "execution_count": null,
   "metadata": {
    "collapsed": false
   },
   "outputs": [],
   "source": [
    "out = 0.5 #m output grid\n",
    "detrend = 4 #ODR plane\n",
    "proctype = 1 #Processing spectral parameters (no smoothing)\n",
    "mxpts = 1024 # max pts per window\n",
    "res = 0.05 #cm internal grid resolution\n",
    "nbin = 20 #number of bins for spectral binning\n",
    "lentype = 1 # l<0.5\n",
    "taper = 1 # Hann taper\n",
    "prc_overlap = 100 # 100% overlap between successive windows\n",
    "minpts = 64 # min pts per window\n",
    "\n",
    "pysesa.process(infile, out, detrend, proctype, mxpts, res, nbin, lentype, minpts, taper, prc_overlap)"
   ]
  }
 ],
 "metadata": {
  "kernelspec": {
   "display_name": "Python 2",
   "language": "python",
   "name": "python2"
  },
  "language_info": {
   "codemirror_mode": {
    "name": "ipython",
    "version": 2
   },
   "file_extension": ".py",
   "mimetype": "text/x-python",
   "name": "python",
   "nbconvert_exporter": "python",
   "pygments_lexer": "ipython2",
   "version": "2.7.12"
  }
 },
 "nbformat": 4,
 "nbformat_minor": 1
}
