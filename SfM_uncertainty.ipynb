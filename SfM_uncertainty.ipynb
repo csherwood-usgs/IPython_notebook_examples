{
 "cells": [
  {
   "cell_type": "markdown",
   "metadata": {},
   "source": [
    "Investigate uncertainty in point cloud estimates.\n",
    "\n",
    "1) Uncertainty reconstruction of the high res cloud from reconstructed geometry of the scene\n",
    "2) Uncertainty in the tie points\n",
    "3) Uncertainty in location of the GCPs relative to benchmark - based on stake errors\n",
    "4) Uncertainty in location of the benchmark - based on OPUS report"
   ]
  },
  {
   "cell_type": "code",
   "execution_count": 12,
   "metadata": {
    "collapsed": false
   },
   "outputs": [
    {
     "name": "stdout",
     "output_type": "stream",
     "text": [
      "survey errors =  0.0270859742302 0.0165529453572\n",
      "marker error in Photoscan =  0.0186453747616 0.0086\n",
      "rp_error_m =  0.012\n"
     ]
    }
   ],
   "source": [
    "import numpy as np\n",
    "\n",
    "# CACO 30 March 2016 results\n",
    "    \n",
    "# OPUS solution results, now based on the \"precise\" results\n",
    "dzO = 0.015\n",
    "dxdyO = np.sqrt( 0.002**2 + 0.005**2)\n",
    "\n",
    "# Uncertainty in survey results - this is the RMS differences between reference markers and stake measurements\n",
    "# for 5, 5, and 6 stakes on RM1, RM2, and RM3.\n",
    "dzS = 0.007\n",
    "dxdyS = np.sqrt(0.0144**2+0.0223**2)\n",
    "\n",
    "# Marker error from Photoscan\n",
    "dzP = 0.0086\n",
    "dxdyP = np.sqrt(0.0141**2+0.0122**2)\n",
    "\n",
    "# Some kind of error estimate from Photoscan\n",
    "# Pixel size on ground: 7.19 cm/pix in DEM, 5 cm/pix in ortho\n",
    "# Reprojection error is 0.3 pix...assuming pix = 4 cm, then\n",
    "rp_error = 0.3 # pix\n",
    "px_size = 4.    # cm/pix\n",
    "rp_error_m = rp_error*px_size/100.\n",
    "\n",
    "print \"survey errors = \",np.sqrt(dxdyO**2+dxdyS**2),np.sqrt(dzO**2+dzS**2)\n",
    "print \"marker error in Photoscan = \",dxdyP,dzP\n",
    "print \"rp_error_m = \",rp_error_m\n",
    "    \n",
    "    "
   ]
  }
 ],
 "metadata": {
  "kernelspec": {
   "display_name": "Python 2",
   "language": "python",
   "name": "python2"
  },
  "language_info": {
   "codemirror_mode": {
    "name": "ipython",
    "version": 2
   },
   "file_extension": ".py",
   "mimetype": "text/x-python",
   "name": "python",
   "nbconvert_exporter": "python",
   "pygments_lexer": "ipython2",
   "version": "2.7.12"
  }
 },
 "nbformat": 4,
 "nbformat_minor": 1
}
